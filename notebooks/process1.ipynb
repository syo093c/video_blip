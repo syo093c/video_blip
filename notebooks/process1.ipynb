{
 "cells": [
  {
   "cell_type": "code",
   "execution_count": 1,
   "id": "8cc5f2cd-90ee-4923-bb13-5f65cd1c046a",
   "metadata": {},
   "outputs": [],
   "source": [
    "import os\n",
    "import glob\n",
    "\n",
    "import cv2\n",
    "import pandas as pd\n",
    "import matplotlib.pyplot as plt\n",
    "\n",
    "pd.set_option(\"display.max_columns\",100)"
   ]
  },
  {
   "cell_type": "code",
   "execution_count": null,
   "id": "3705dd88-13a6-48ea-9776-657e184e136e",
   "metadata": {},
   "outputs": [],
   "source": [
    "# visualize test\n",
    "cap = cv2.VideoCapture('/mnt/disks/disk0/bddx_video/video/bdd100k/videos/100k/train/0000f77c-6257be58.mov')\n",
    "\n",
    "ret, frame = cap.read()\n",
    "\n",
    "plt.figure()\n",
    "plt.imshow(frame[:,:,::-1])\n",
    "plt.show()"
   ]
  },
  {
   "cell_type": "code",
   "execution_count": 3,
   "id": "121e464f-f9e8-4275-a8de-6a04982c8d9a",
   "metadata": {},
   "outputs": [],
   "source": [
    "# preprocess for caption\n",
    "df = pd.read_csv('../data/BDD-X-Dataset/BDD-X-Annotations_v1.csv').dropna(axis=0, subset=[\"Input.Video\"]).reset_index(drop=True)\n",
    "df[\"video_name\"] = df[\"Input.Video\"].map(lambda x: x.split('/')[-1])"
   ]
  },
  {
   "cell_type": "code",
   "execution_count": 4,
   "id": "41d5c0e8-eee1-46d2-9a6d-9ac5ee48c194",
   "metadata": {},
   "outputs": [],
   "source": [
    "# create dataframe of BDD100K\n",
    "mov_fullpath_list = glob.glob('/mnt/disks/disk0/bddx_video/video/bdd100k/videos/100k/*/*mov')\n",
    "mov_list = [x.split('/')[-1] for x in mov_fullpath_list]\n",
    "split_list = [x.split('/')[-2] for x in mov_fullpath_list]\n",
    "\n",
    "df_mov = pd.DataFrame({\n",
    "    \"mov_path\": mov_fullpath_list,\n",
    "    \"video_name\": mov_list,\n",
    "    \"split\": split_list\n",
    "})"
   ]
  },
  {
   "cell_type": "code",
   "execution_count": 5,
   "id": "6a95d30c-0ba6-41f6-9c94-0102e5f23fbb",
   "metadata": {},
   "outputs": [
    {
     "data": {
      "text/plain": [
       "(5423, 64)"
      ]
     },
     "execution_count": 5,
     "metadata": {},
     "output_type": "execute_result"
    }
   ],
   "source": [
    "# BDD100KのDataFrameとCaptionのDataFrame、Videoの名前でInner Merge\n",
    "df_merge = df_mov.merge(df, on=\"video_name\", how=\"inner\")\n",
    "df_merge.shape"
   ]
  },
  {
   "cell_type": "code",
   "execution_count": 8,
   "id": "26850ca1-26b4-4385-b3aa-83af9d7199c5",
   "metadata": {},
   "outputs": [],
   "source": [
    "df_merge.to_csv('../data/df_caption_video_path.csv', index=False)"
   ]
  }
 ],
 "metadata": {
  "kernelspec": {
   "display_name": "Python 3",
   "language": "python",
   "name": "python3"
  },
  "language_info": {
   "codemirror_mode": {
    "name": "ipython",
    "version": 3
   },
   "file_extension": ".py",
   "mimetype": "text/x-python",
   "name": "python",
   "nbconvert_exporter": "python",
   "pygments_lexer": "ipython3",
   "version": "3.10.11"
  }
 },
 "nbformat": 4,
 "nbformat_minor": 5
}
